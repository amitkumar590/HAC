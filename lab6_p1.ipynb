{
  "cells": [
    {
      "cell_type": "code",
      "execution_count": 2,
      "metadata": {},
      "outputs": [
        {
          "name": "stdout",
          "output_type": "stream",
          "text": [
            "Collecting nltk\n",
            "  Downloading nltk-3.8.1-py3-none-any.whl (1.5 MB)\n",
            "\u001b[2K     \u001b[90m━━━━━━━━━━━━━━━━━━━━━━━━━━━━━━━━━━━━━━━━\u001b[0m \u001b[32m1.5/1.5 MB\u001b[0m \u001b[31m7.4 MB/s\u001b[0m eta \u001b[36m0:00:00\u001b[0m00:01\u001b[0m:00:01\u001b[0m\n",
            "\u001b[?25hCollecting click (from nltk)\n",
            "  Obtaining dependency information for click from https://files.pythonhosted.org/packages/00/2e/d53fa4befbf2cfa713304affc7ca780ce4fc1fd8710527771b58311a3229/click-8.1.7-py3-none-any.whl.metadata\n",
            "  Downloading click-8.1.7-py3-none-any.whl.metadata (3.0 kB)\n",
            "Collecting joblib (from nltk)\n",
            "  Obtaining dependency information for joblib from https://files.pythonhosted.org/packages/10/40/d551139c85db202f1f384ba8bcf96aca2f329440a844f924c8a0040b6d02/joblib-1.3.2-py3-none-any.whl.metadata\n",
            "  Downloading joblib-1.3.2-py3-none-any.whl.metadata (5.4 kB)\n",
            "Collecting regex>=2021.8.3 (from nltk)\n",
            "  Obtaining dependency information for regex>=2021.8.3 from https://files.pythonhosted.org/packages/4d/d3/38b09813a32618acd437906c4d0194119e27139dbcd7486e69d58e375a27/regex-2023.10.3-cp311-cp311-macosx_11_0_arm64.whl.metadata\n",
            "  Downloading regex-2023.10.3-cp311-cp311-macosx_11_0_arm64.whl.metadata (40 kB)\n",
            "\u001b[2K     \u001b[90m━━━━━━━━━━━━━━━━━━━━━━━━━━━━━━━━━━━━━━━━\u001b[0m \u001b[32m40.9/40.9 kB\u001b[0m \u001b[31m4.6 MB/s\u001b[0m eta \u001b[36m0:00:00\u001b[0m\n",
            "\u001b[?25hCollecting tqdm (from nltk)\n",
            "  Obtaining dependency information for tqdm from https://files.pythonhosted.org/packages/00/e5/f12a80907d0884e6dff9c16d0c0114d81b8cd07dc3ae54c5e962cc83037e/tqdm-4.66.1-py3-none-any.whl.metadata\n",
            "  Downloading tqdm-4.66.1-py3-none-any.whl.metadata (57 kB)\n",
            "\u001b[2K     \u001b[90m━━━━━━━━━━━━━━━━━━━━━━━━━━━━━━━━━━━━━━━━\u001b[0m \u001b[32m57.6/57.6 kB\u001b[0m \u001b[31m7.2 MB/s\u001b[0m eta \u001b[36m0:00:00\u001b[0m\n",
            "\u001b[?25hDownloading regex-2023.10.3-cp311-cp311-macosx_11_0_arm64.whl (291 kB)\n",
            "\u001b[2K   \u001b[90m━━━━━━━━━━━━━━━━━━━━━━━━━━━━━━━━━━━━━━━━\u001b[0m \u001b[32m291.0/291.0 kB\u001b[0m \u001b[31m20.3 MB/s\u001b[0m eta \u001b[36m0:00:00\u001b[0m\n",
            "\u001b[?25hUsing cached click-8.1.7-py3-none-any.whl (97 kB)\n",
            "Downloading joblib-1.3.2-py3-none-any.whl (302 kB)\n",
            "\u001b[2K   \u001b[90m━━━━━━━━━━━━━━━━━━━━━━━━━━━━━━━━━━━━━━━━\u001b[0m \u001b[32m302.2/302.2 kB\u001b[0m \u001b[31m21.9 MB/s\u001b[0m eta \u001b[36m0:00:00\u001b[0m\n",
            "\u001b[?25hDownloading tqdm-4.66.1-py3-none-any.whl (78 kB)\n",
            "\u001b[2K   \u001b[90m━━━━━━━━━━━━━━━━━━━━━━━━━━━━━━━━━━━━━━━━\u001b[0m \u001b[32m78.3/78.3 kB\u001b[0m \u001b[31m9.2 MB/s\u001b[0m eta \u001b[36m0:00:00\u001b[0m\n",
            "\u001b[?25hInstalling collected packages: tqdm, regex, joblib, click, nltk\n",
            "Successfully installed click-8.1.7 joblib-1.3.2 nltk-3.8.1 regex-2023.10.3 tqdm-4.66.1\n",
            "\n",
            "\u001b[1m[\u001b[0m\u001b[34;49mnotice\u001b[0m\u001b[1;39;49m]\u001b[0m\u001b[39;49m A new release of pip is available: \u001b[0m\u001b[31;49m23.2.1\u001b[0m\u001b[39;49m -> \u001b[0m\u001b[32;49m23.3.1\u001b[0m\n",
            "\u001b[1m[\u001b[0m\u001b[34;49mnotice\u001b[0m\u001b[1;39;49m]\u001b[0m\u001b[39;49m To update, run: \u001b[0m\u001b[32;49mpython3.11 -m pip install --upgrade pip\u001b[0m\n",
            "Note: you may need to restart the kernel to use updated packages.\n"
          ]
        }
      ],
      "source": [
        "pip install nltk"
      ]
    },
    {
      "cell_type": "code",
      "execution_count": 25,
      "metadata": {
        "colab": {
          "base_uri": "https://localhost:8080/"
        },
        "id": "PzYCbQ4fZhyu",
        "outputId": "0f693448-baea-44c8-990d-73a69e447e77"
      },
      "outputs": [
        {
          "name": "stdout",
          "output_type": "stream",
          "text": [
            "Number of documents belongs to one of these ten classes: 5928\n"
          ]
        },
        {
          "name": "stderr",
          "output_type": "stream",
          "text": [
            "[nltk_data] Downloading package reuters to\n",
            "[nltk_data]     /Users/amitkumar/nltk_data...\n",
            "[nltk_data]   Package reuters is already up-to-date!\n"
          ]
        }
      ],
      "source": [
        "import nltk\n",
        "nltk.download('reuters')\n",
        "\n",
        "from nltk.corpus import reuters\n",
        "\n",
        "# Define the ten specified classes\n",
        "specified_classes = [\n",
        "    'acquisitions', 'corn', 'crude', 'earn', 'grain',\n",
        "    'interest', 'money-fx', 'ship', 'trade', 'wheat'\n",
        "]\n",
        "\n",
        "# Get documents that belong to only one of the specified classes\n",
        "single_class_documents = []\n",
        "\n",
        "for doc_id in reuters.fileids():\n",
        "    categories = reuters.categories(doc_id)\n",
        "    relevant_categories = [category for category in categories if category in specified_classes]\n",
        "\n",
        "    # If the document belongs to exactly one of the specified classes\n",
        "    if len(relevant_categories) == 1:\n",
        "        single_class_documents.append(doc_id)\n",
        "\n",
        "# Display the number of filtered documents\n",
        "print(f\"Number of documents belongs to one of these ten classes: {len(single_class_documents)}\")\n"
      ]
    },
    {
      "cell_type": "code",
      "execution_count": 10,
      "metadata": {},
      "outputs": [
        {
          "name": "stdout",
          "output_type": "stream",
          "text": [
            "Collecting scikit-learn\n",
            "  Downloading scikit_learn-1.3.2-cp311-cp311-macosx_12_0_arm64.whl.metadata (11 kB)\n",
            "Collecting numpy<2.0,>=1.17.3 (from scikit-learn)\n",
            "  Downloading numpy-1.26.2-cp311-cp311-macosx_11_0_arm64.whl.metadata (115 kB)\n",
            "\u001b[2K     \u001b[90m━━━━━━━━━━━━━━━━━━━━━━━━━━━━━━━━━━━━━━━\u001b[0m \u001b[32m115.1/115.1 kB\u001b[0m \u001b[31m2.7 MB/s\u001b[0m eta \u001b[36m0:00:00\u001b[0m00:01\u001b[0m\n",
            "\u001b[?25hCollecting scipy>=1.5.0 (from scikit-learn)\n",
            "  Downloading scipy-1.11.4-cp311-cp311-macosx_12_0_arm64.whl.metadata (165 kB)\n",
            "\u001b[2K     \u001b[90m━━━━━━━━━━━━━━━━━━━━━━━━━━━━━━━━━━━━━━━\u001b[0m \u001b[32m165.4/165.4 kB\u001b[0m \u001b[31m5.9 MB/s\u001b[0m eta \u001b[36m0:00:00\u001b[0m\n",
            "\u001b[?25hRequirement already satisfied: joblib>=1.1.1 in /opt/homebrew/lib/python3.11/site-packages (from scikit-learn) (1.3.2)\n",
            "Collecting threadpoolctl>=2.0.0 (from scikit-learn)\n",
            "  Downloading threadpoolctl-3.2.0-py3-none-any.whl.metadata (10.0 kB)\n",
            "Downloading scikit_learn-1.3.2-cp311-cp311-macosx_12_0_arm64.whl (9.4 MB)\n",
            "\u001b[2K   \u001b[90m━━━━━━━━━━━━━━━━━━━━━━━━━━━━━━━━━━━━━━━━\u001b[0m \u001b[32m9.4/9.4 MB\u001b[0m \u001b[31m11.2 MB/s\u001b[0m eta \u001b[36m0:00:00\u001b[0m00:01\u001b[0m00:01\u001b[0m\n",
            "\u001b[?25hDownloading numpy-1.26.2-cp311-cp311-macosx_11_0_arm64.whl (14.0 MB)\n",
            "\u001b[2K   \u001b[90m━━━━━━━━━━━━━━━━━━━━━━━━━━━━━━━━━━━━━━━━\u001b[0m \u001b[32m14.0/14.0 MB\u001b[0m \u001b[31m11.8 MB/s\u001b[0m eta \u001b[36m0:00:00\u001b[0m00:01\u001b[0m00:01\u001b[0m\n",
            "\u001b[?25hDownloading scipy-1.11.4-cp311-cp311-macosx_12_0_arm64.whl (29.7 MB)\n",
            "\u001b[2K   \u001b[90m━━━━━━━━━━━━━━━━━━━━━━━━━━━━━━━━━━━━━━━━\u001b[0m \u001b[32m29.7/29.7 MB\u001b[0m \u001b[31m10.7 MB/s\u001b[0m eta \u001b[36m0:00:00\u001b[0m00:01\u001b[0m00:01\u001b[0m\n",
            "\u001b[?25hDownloading threadpoolctl-3.2.0-py3-none-any.whl (15 kB)\n",
            "Installing collected packages: threadpoolctl, numpy, scipy, scikit-learn\n",
            "Successfully installed numpy-1.26.2 scikit-learn-1.3.2 scipy-1.11.4 threadpoolctl-3.2.0\n",
            "Note: you may need to restart the kernel to use updated packages.\n"
          ]
        }
      ],
      "source": [
        "pip install scikit-learn"
      ]
    },
    {
      "cell_type": "code",
      "execution_count": 26,
      "metadata": {
        "id": "ptWwcbO-aId9"
      },
      "outputs": [],
      "source": [
        "from sklearn.feature_extraction.text import TfidfVectorizer\n",
        "from sklearn.cluster import KMeans"
      ]
    },
    {
      "cell_type": "code",
      "execution_count": 27,
      "metadata": {
        "id": "voifw3jqaQOH"
      },
      "outputs": [],
      "source": [
        "document_texts = [reuters.raw(doc_id) for doc_id in single_class_documents]"
      ]
    },
    {
      "cell_type": "code",
      "execution_count": 28,
      "metadata": {
        "id": "698Cpwn6aUM0"
      },
      "outputs": [],
      "source": [
        "vectorizer = TfidfVectorizer(stop_words='english')"
      ]
    },
    {
      "cell_type": "code",
      "execution_count": 29,
      "metadata": {
        "id": "xOFo2s0KaXhB"
      },
      "outputs": [],
      "source": [
        "tfidf_matrix = vectorizer.fit_transform(document_texts)"
      ]
    },
    {
      "cell_type": "code",
      "execution_count": 30,
      "metadata": {
        "colab": {
          "base_uri": "https://localhost:8080/",
          "height": 129
        },
        "id": "1Pk7k75vaalK",
        "outputId": "17ff5b7e-620a-41e4-a6a3-53f1c052c33d"
      },
      "outputs": [
        {
          "name": "stderr",
          "output_type": "stream",
          "text": [
            "/opt/homebrew/lib/python3.11/site-packages/sklearn/cluster/_kmeans.py:1416: FutureWarning: The default value of `n_init` will change from 10 to 'auto' in 1.4. Set the value of `n_init` explicitly to suppress the warning\n",
            "  super()._check_params_vs_input(X, default_n_init=10)\n"
          ]
        },
        {
          "data": {
            "text/html": [
              "<style>#sk-container-id-2 {color: black;}#sk-container-id-2 pre{padding: 0;}#sk-container-id-2 div.sk-toggleable {background-color: white;}#sk-container-id-2 label.sk-toggleable__label {cursor: pointer;display: block;width: 100%;margin-bottom: 0;padding: 0.3em;box-sizing: border-box;text-align: center;}#sk-container-id-2 label.sk-toggleable__label-arrow:before {content: \"▸\";float: left;margin-right: 0.25em;color: #696969;}#sk-container-id-2 label.sk-toggleable__label-arrow:hover:before {color: black;}#sk-container-id-2 div.sk-estimator:hover label.sk-toggleable__label-arrow:before {color: black;}#sk-container-id-2 div.sk-toggleable__content {max-height: 0;max-width: 0;overflow: hidden;text-align: left;background-color: #f0f8ff;}#sk-container-id-2 div.sk-toggleable__content pre {margin: 0.2em;color: black;border-radius: 0.25em;background-color: #f0f8ff;}#sk-container-id-2 input.sk-toggleable__control:checked~div.sk-toggleable__content {max-height: 200px;max-width: 100%;overflow: auto;}#sk-container-id-2 input.sk-toggleable__control:checked~label.sk-toggleable__label-arrow:before {content: \"▾\";}#sk-container-id-2 div.sk-estimator input.sk-toggleable__control:checked~label.sk-toggleable__label {background-color: #d4ebff;}#sk-container-id-2 div.sk-label input.sk-toggleable__control:checked~label.sk-toggleable__label {background-color: #d4ebff;}#sk-container-id-2 input.sk-hidden--visually {border: 0;clip: rect(1px 1px 1px 1px);clip: rect(1px, 1px, 1px, 1px);height: 1px;margin: -1px;overflow: hidden;padding: 0;position: absolute;width: 1px;}#sk-container-id-2 div.sk-estimator {font-family: monospace;background-color: #f0f8ff;border: 1px dotted black;border-radius: 0.25em;box-sizing: border-box;margin-bottom: 0.5em;}#sk-container-id-2 div.sk-estimator:hover {background-color: #d4ebff;}#sk-container-id-2 div.sk-parallel-item::after {content: \"\";width: 100%;border-bottom: 1px solid gray;flex-grow: 1;}#sk-container-id-2 div.sk-label:hover label.sk-toggleable__label {background-color: #d4ebff;}#sk-container-id-2 div.sk-serial::before {content: \"\";position: absolute;border-left: 1px solid gray;box-sizing: border-box;top: 0;bottom: 0;left: 50%;z-index: 0;}#sk-container-id-2 div.sk-serial {display: flex;flex-direction: column;align-items: center;background-color: white;padding-right: 0.2em;padding-left: 0.2em;position: relative;}#sk-container-id-2 div.sk-item {position: relative;z-index: 1;}#sk-container-id-2 div.sk-parallel {display: flex;align-items: stretch;justify-content: center;background-color: white;position: relative;}#sk-container-id-2 div.sk-item::before, #sk-container-id-2 div.sk-parallel-item::before {content: \"\";position: absolute;border-left: 1px solid gray;box-sizing: border-box;top: 0;bottom: 0;left: 50%;z-index: -1;}#sk-container-id-2 div.sk-parallel-item {display: flex;flex-direction: column;z-index: 1;position: relative;background-color: white;}#sk-container-id-2 div.sk-parallel-item:first-child::after {align-self: flex-end;width: 50%;}#sk-container-id-2 div.sk-parallel-item:last-child::after {align-self: flex-start;width: 50%;}#sk-container-id-2 div.sk-parallel-item:only-child::after {width: 0;}#sk-container-id-2 div.sk-dashed-wrapped {border: 1px dashed gray;margin: 0 0.4em 0.5em 0.4em;box-sizing: border-box;padding-bottom: 0.4em;background-color: white;}#sk-container-id-2 div.sk-label label {font-family: monospace;font-weight: bold;display: inline-block;line-height: 1.2em;}#sk-container-id-2 div.sk-label-container {text-align: center;}#sk-container-id-2 div.sk-container {/* jupyter's `normalize.less` sets `[hidden] { display: none; }` but bootstrap.min.css set `[hidden] { display: none !important; }` so we also need the `!important` here to be able to override the default hidden behavior on the sphinx rendered scikit-learn.org. See: https://github.com/scikit-learn/scikit-learn/issues/21755 */display: inline-block !important;position: relative;}#sk-container-id-2 div.sk-text-repr-fallback {display: none;}</style><div id=\"sk-container-id-2\" class=\"sk-top-container\"><div class=\"sk-text-repr-fallback\"><pre>KMeans(n_clusters=10, random_state=42)</pre><b>In a Jupyter environment, please rerun this cell to show the HTML representation or trust the notebook. <br />On GitHub, the HTML representation is unable to render, please try loading this page with nbviewer.org.</b></div><div class=\"sk-container\" hidden><div class=\"sk-item\"><div class=\"sk-estimator sk-toggleable\"><input class=\"sk-toggleable__control sk-hidden--visually\" id=\"sk-estimator-id-2\" type=\"checkbox\" checked><label for=\"sk-estimator-id-2\" class=\"sk-toggleable__label sk-toggleable__label-arrow\">KMeans</label><div class=\"sk-toggleable__content\"><pre>KMeans(n_clusters=10, random_state=42)</pre></div></div></div></div></div>"
            ],
            "text/plain": [
              "KMeans(n_clusters=10, random_state=42)"
            ]
          },
          "execution_count": 30,
          "metadata": {},
          "output_type": "execute_result"
        }
      ],
      "source": [
        "num_clusters = 10  # Number of clusters\n",
        "kmeans = KMeans(n_clusters=num_clusters, random_state=42)\n",
        "kmeans.fit(tfidf_matrix)"
      ]
    },
    {
      "cell_type": "code",
      "execution_count": 31,
      "metadata": {
        "colab": {
          "base_uri": "https://localhost:8080/"
        },
        "id": "OT2tPvmeagaK",
        "outputId": "f59a7ed2-66fd-40a2-c416-792c324fdbb5"
      },
      "outputs": [
        {
          "name": "stdout",
          "output_type": "stream",
          "text": [
            "Document ID: test/14826 - Cluster: 3\n",
            "Document ID: test/14828 - Cluster: 2\n",
            "Document ID: test/14829 - Cluster: 3\n",
            "Document ID: test/14839 - Cluster: 2\n",
            "Document ID: test/14859 - Cluster: 2\n",
            "Document ID: test/14860 - Cluster: 0\n",
            "Document ID: test/14862 - Cluster: 3\n",
            "Document ID: test/14872 - Cluster: 2\n",
            "Document ID: test/14873 - Cluster: 2\n",
            "Document ID: test/14875 - Cluster: 2\n",
            "Document ID: test/14876 - Cluster: 2\n",
            "Document ID: test/14881 - Cluster: 3\n",
            "Document ID: test/14899 - Cluster: 2\n",
            "Document ID: test/14903 - Cluster: 2\n",
            "Document ID: test/14904 - Cluster: 3\n",
            "Document ID: test/14911 - Cluster: 2\n",
            "Document ID: test/14912 - Cluster: 3\n",
            "Document ID: test/14913 - Cluster: 3\n",
            "Document ID: test/14926 - Cluster: 2\n",
            "Document ID: test/14930 - Cluster: 2\n",
            "Document ID: test/14931 - Cluster: 3\n",
            "Document ID: test/14933 - Cluster: 2\n",
            "Document ID: test/14934 - Cluster: 9\n",
            "Document ID: test/14954 - Cluster: 0\n",
            "Document ID: test/14957 - Cluster: 2\n",
            "Document ID: test/14958 - Cluster: 0\n",
            "Document ID: test/14959 - Cluster: 2\n",
            "Document ID: test/14960 - Cluster: 7\n",
            "Document ID: test/14962 - Cluster: 0\n",
            "Document ID: test/14963 - Cluster: 6\n",
            "Document ID: test/14965 - Cluster: 0\n",
            "Document ID: test/14967 - Cluster: 2\n",
            "Document ID: test/14968 - Cluster: 7\n",
            "Document ID: test/14969 - Cluster: 0\n",
            "Document ID: test/14970 - Cluster: 0\n",
            "Document ID: test/14971 - Cluster: 7\n",
            "Document ID: test/14975 - Cluster: 2\n",
            "Document ID: test/14981 - Cluster: 7\n",
            "Document ID: test/14983 - Cluster: 7\n",
            "Document ID: test/14984 - Cluster: 2\n",
            "Document ID: test/14985 - Cluster: 0\n",
            "Document ID: test/14987 - Cluster: 3\n",
            "Document ID: test/14993 - Cluster: 2\n",
            "Document ID: test/14995 - Cluster: 6\n",
            "Document ID: test/14998 - Cluster: 0\n",
            "Document ID: test/15000 - Cluster: 0\n",
            "Document ID: test/15002 - Cluster: 7\n",
            "Document ID: test/15005 - Cluster: 2\n",
            "Document ID: test/15006 - Cluster: 7\n",
            "Document ID: test/15011 - Cluster: 2\n"
          ]
        }
      ],
      "source": [
        "cluster_labels = kmeans.labels_\n",
        "\n",
        "# Print cluster assignments for the first few documents\n",
        "for i in range(50):\n",
        "    print(f\"Document ID: {single_class_documents[i]} - Cluster: {cluster_labels[i]}\")"
      ]
    },
    {
      "cell_type": "code",
      "execution_count": 18,
      "metadata": {
        "id": "mPLq_mSdamyd"
      },
      "outputs": [],
      "source": [
        "import numpy as np\n",
        "from sklearn.preprocessing import LabelEncoder\n",
        "from sklearn import metrics"
      ]
    },
    {
      "cell_type": "code",
      "execution_count": 32,
      "metadata": {
        "colab": {
          "base_uri": "https://localhost:8080/"
        },
        "id": "NyvPa3R95B1j",
        "outputId": "5fc17f3e-37eb-4f93-d3c5-d6b9f34aa9a8"
      },
      "outputs": [
        {
          "name": "stdout",
          "output_type": "stream",
          "text": [
            "Purity: 0.7799\n",
            "Normalized Mutual Information (NMI): 0.4084\n",
            "F1 Score: 0.0003\n",
            "Rand Index (RI): 0.1015\n"
          ]
        }
      ],
      "source": [
        "# Encode true class labels\n",
        "true_labels = [reuters.categories(doc_id)[0] for doc_id in single_class_documents]\n",
        "label_encoder = LabelEncoder()\n",
        "true_labels_encoded = label_encoder.fit_transform(true_labels)\n",
        "\n",
        "# Compute purity\n",
        "def purity_score(y_true, y_pred):\n",
        "    contingency_matrix = metrics.cluster.contingency_matrix(y_true, y_pred)\n",
        "    return np.sum(np.amax(contingency_matrix, axis=0)) / np.sum(contingency_matrix)\n",
        "\n",
        "purity = purity_score(true_labels_encoded, cluster_labels)\n",
        "\n",
        "# Compute normalized mutual information (NMI)\n",
        "nmi = metrics.normalized_mutual_info_score(true_labels_encoded, cluster_labels)\n",
        "\n",
        "# Compute F1 score\n",
        "f1_score = metrics.f1_score(true_labels_encoded, cluster_labels, average='weighted')\n",
        "\n",
        "# Compute Rand Index (RI)\n",
        "ri = metrics.adjusted_rand_score(true_labels_encoded, cluster_labels)\n",
        "\n",
        "# Print the computed metrics\n",
        "print(f\"Purity: {purity:.4f}\")\n",
        "print(f\"Normalized Mutual Information (NMI): {nmi:.4f}\")\n",
        "print(f\"F1 Score: {f1_score:.4f}\")\n",
        "print(f\"Rand Index (RI): {ri:.4f}\")"
      ]
    },
    {
      "cell_type": "code",
      "execution_count": 21,
      "metadata": {},
      "outputs": [
        {
          "name": "stdout",
          "output_type": "stream",
          "text": [
            "Collecting pandas\n",
            "  Downloading pandas-2.1.4-cp311-cp311-macosx_11_0_arm64.whl.metadata (18 kB)\n",
            "Requirement already satisfied: numpy<2,>=1.23.2 in /opt/homebrew/lib/python3.11/site-packages (from pandas) (1.26.2)\n",
            "Requirement already satisfied: python-dateutil>=2.8.2 in /Users/amitkumar/Library/Python/3.11/lib/python/site-packages (from pandas) (2.8.2)\n",
            "Collecting pytz>=2020.1 (from pandas)\n",
            "  Downloading pytz-2023.3.post1-py2.py3-none-any.whl.metadata (22 kB)\n",
            "Collecting tzdata>=2022.1 (from pandas)\n",
            "  Downloading tzdata-2023.3-py2.py3-none-any.whl (341 kB)\n",
            "\u001b[2K     \u001b[90m━━━━━━━━━━━━━━━━━━━━━━━━━━━━━━━━━━━━━━━\u001b[0m \u001b[32m341.8/341.8 kB\u001b[0m \u001b[31m5.3 MB/s\u001b[0m eta \u001b[36m0:00:00\u001b[0ma \u001b[36m0:00:01\u001b[0m\n",
            "\u001b[?25hRequirement already satisfied: six>=1.5 in /Users/amitkumar/Library/Python/3.11/lib/python/site-packages (from python-dateutil>=2.8.2->pandas) (1.16.0)\n",
            "Downloading pandas-2.1.4-cp311-cp311-macosx_11_0_arm64.whl (10.8 MB)\n",
            "\u001b[2K   \u001b[90m━━━━━━━━━━━━━━━━━━━━━━━━━━━━━━━━━━━━━━━━\u001b[0m \u001b[32m10.8/10.8 MB\u001b[0m \u001b[31m11.3 MB/s\u001b[0m eta \u001b[36m0:00:00\u001b[0m00:01\u001b[0m00:01\u001b[0m\n",
            "\u001b[?25hDownloading pytz-2023.3.post1-py2.py3-none-any.whl (502 kB)\n",
            "\u001b[2K   \u001b[90m━━━━━━━━━━━━━━━━━━━━━━━━━━━━━━━━━━━━━━━━\u001b[0m \u001b[32m502.5/502.5 kB\u001b[0m \u001b[31m11.4 MB/s\u001b[0m eta \u001b[36m0:00:00\u001b[0ma \u001b[36m0:00:01\u001b[0m\n",
            "\u001b[?25hInstalling collected packages: pytz, tzdata, pandas\n",
            "Successfully installed pandas-2.1.4 pytz-2023.3.post1 tzdata-2023.3\n",
            "Note: you may need to restart the kernel to use updated packages.\n"
          ]
        }
      ],
      "source": [
        "pip install pandas"
      ]
    },
    {
      "cell_type": "code",
      "execution_count": 22,
      "metadata": {
        "id": "XYPxPlKr5rKD"
      },
      "outputs": [],
      "source": [
        "from sklearn.metrics import confusion_matrix\n",
        "import pandas as pd"
      ]
    },
    {
      "cell_type": "code",
      "execution_count": 33,
      "metadata": {
        "colab": {
          "base_uri": "https://localhost:8080/"
        },
        "id": "trLBOyPw7tKq",
        "outputId": "7183e008-14d2-4c40-890b-555a611a12ee"
      },
      "outputs": [
        {
          "name": "stdout",
          "output_type": "stream",
          "text": [
            "Confusion Matrix:\n",
            "              Cluster_0  Cluster_1  Cluster_2  Cluster_3  Cluster_4  \\\n",
            "acquisitions          0          0         29          3         14   \n",
            "corn                  0          0          4          0          0   \n",
            "crude                 0          0         16          0          0   \n",
            "earn                  1          0          4         16          1   \n",
            "grain                 0          0          1          8          0   \n",
            "interest              0          0          1          0          0   \n",
            "money-fx              0          0          0          2          0   \n",
            "ship                  0          0          0          1          0   \n",
            "trade                 0          0          5          2          1   \n",
            "wheat                 0          0          2          0          0   \n",
            "\n",
            "              Cluster_5  Cluster_6  Cluster_7  Cluster_8  Cluster_9  \n",
            "acquisitions          0          0          0          0          0  \n",
            "corn                  0          0          0          0          0  \n",
            "crude                 0          0          0          0          0  \n",
            "earn                  0          0          0         33          0  \n",
            "grain                 0          0          0          0          0  \n",
            "interest              0          0          0          0          0  \n",
            "money-fx              0          0          0          0          0  \n",
            "ship                  0          0          0          0          0  \n",
            "trade                 0          0          0          0          0  \n",
            "wheat                 0          0          0          0          0  \n"
          ]
        }
      ],
      "source": [
        "# Compute confusion matrix\n",
        "conf_matrix = confusion_matrix(true_labels_encoded, cluster_labels)\n",
        "\n",
        "# Ensure that the confusion matrix only includes the ten specified classes and clusters\n",
        "conf_matrix = conf_matrix[:len(specified_classes), :num_clusters]\n",
        "\n",
        "# Create a DataFrame for better visualization\n",
        "conf_matrix_df = pd.DataFrame(conf_matrix, index=specified_classes, columns=[f'Cluster_{i}' for i in range(num_clusters)])\n",
        "\n",
        "# Print confusion matrix\n",
        "print(\"Confusion Matrix:\")\n",
        "print(conf_matrix_df)\n"
      ]
    },
    {
      "cell_type": "code",
      "execution_count": 34,
      "metadata": {
        "colab": {
          "base_uri": "https://localhost:8080/"
        },
        "id": "GQ9W9xUs7xu3",
        "outputId": "0d6b4b9e-13e7-4e1b-fa7b-94afa1203615"
      },
      "outputs": [
        {
          "name": "stdout",
          "output_type": "stream",
          "text": [
            "False Positives for class 'acquisitions': 1\n",
            "False Negatives for class 'acquisitions': 46\n",
            "False Positives for class 'corn': 0\n",
            "False Negatives for class 'corn': 4\n",
            "False Positives for class 'crude': 46\n",
            "False Negatives for class 'crude': 0\n",
            "False Positives for class 'earn': 16\n",
            "False Negatives for class 'earn': 39\n",
            "False Positives for class 'grain': 16\n",
            "False Negatives for class 'grain': 9\n",
            "False Positives for class 'interest': 0\n",
            "False Negatives for class 'interest': 1\n",
            "False Positives for class 'money-fx': 0\n",
            "False Negatives for class 'money-fx': 2\n",
            "False Positives for class 'ship': 0\n",
            "False Negatives for class 'ship': 1\n",
            "False Positives for class 'trade': 33\n",
            "False Negatives for class 'trade': 8\n",
            "False Positives for class 'wheat': 0\n",
            "False Negatives for class 'wheat': 2\n"
          ]
        }
      ],
      "source": [
        "# Iterate through the confusion matrix to identify FPs\n",
        "for i in range(len(specified_classes)):\n",
        "    # False Positives (FPs)\n",
        "    fp_count = np.sum(conf_matrix[:, i]) - conf_matrix[i, i]\n",
        "    print(f\"False Positives for class '{specified_classes[i]}': {fp_count}\")\n",
        "     # False Negatives (FNs)\n",
        "    fn_count = np.sum(conf_matrix[i, :]) - conf_matrix[i, i]\n",
        "    print(f\"False Negatives for class '{specified_classes[i]}': {fn_count}\")"
      ]
    },
    {
      "cell_type": "code",
      "execution_count": null,
      "metadata": {
        "id": "wPMDF6ry_-fY"
      },
      "outputs": [],
      "source": []
    }
  ],
  "metadata": {
    "colab": {
      "provenance": []
    },
    "kernelspec": {
      "display_name": "Python 3",
      "name": "python3"
    },
    "language_info": {
      "codemirror_mode": {
        "name": "ipython",
        "version": 3
      },
      "file_extension": ".py",
      "mimetype": "text/x-python",
      "name": "python",
      "nbconvert_exporter": "python",
      "pygments_lexer": "ipython3",
      "version": "3.11.5"
    }
  },
  "nbformat": 4,
  "nbformat_minor": 0
}
